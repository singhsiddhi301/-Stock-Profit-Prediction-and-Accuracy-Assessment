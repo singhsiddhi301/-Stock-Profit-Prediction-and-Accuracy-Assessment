{
  "nbformat": 4,
  "nbformat_minor": 0,
  "metadata": {
    "colab": {
      "name": "Copy of stockprediction.ipynb",
      "provenance": [],
      "collapsed_sections": []
    },
    "kernelspec": {
      "name": "python3",
      "display_name": "Python 3"
    }
  },
  "cells": [
    {
      "cell_type": "code",
      "metadata": {
        "id": "Mq376o7UXhGT"
      },
      "source": [
        "#install the libraries\n",
        "import numpy as np\n",
        "import pandas as pd\n",
        "from sklearn.tree import DecisionTreeRegressor\n",
        "from sklearn.linear_model import LinearRegression\n",
        "from sklearn.model_selection import train_test_split\n",
        "import matplotlib.pyplot as plt\n",
        "plt.style.use('bmh')"
      ],
      "execution_count": null,
      "outputs": []
    },
    {
      "cell_type": "code",
      "metadata": {
        "id": "hL21FyWxXmY3",
        "colab": {
          "resources": {
            "http://localhost:8080/nbextensions/google.colab/files.js": {
              "data": "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",
              "ok": true,
              "headers": [
                [
                  "content-type",
                  "application/javascript"
                ]
              ],
              "status": 200,
              "status_text": ""
            }
          },
          "base_uri": "https://localhost:8080/",
          "height": 73
        },
        "outputId": "09b15dd7-405e-4261-cb30-7e85493b5e8f"
      },
      "source": [
        "#load the data\n",
        "from google.colab import files\n",
        "uploaded = files.upload()"
      ],
      "execution_count": null,
      "outputs": [
        {
          "output_type": "display_data",
          "data": {
            "text/html": [
              "\n",
              "     <input type=\"file\" id=\"files-a6c242a0-8fa9-4617-8a48-4351f437a7e8\" name=\"files[]\" multiple disabled\n",
              "        style=\"border:none\" />\n",
              "     <output id=\"result-a6c242a0-8fa9-4617-8a48-4351f437a7e8\">\n",
              "      Upload widget is only available when the cell has been executed in the\n",
              "      current browser session. Please rerun this cell to enable.\n",
              "      </output>\n",
              "      <script src=\"/nbextensions/google.colab/files.js\"></script> "
            ],
            "text/plain": [
              "<IPython.core.display.HTML object>"
            ]
          },
          "metadata": {
            "tags": []
          }
        },
        {
          "output_type": "stream",
          "text": [
            "Saving newdata.csv to newdata (1).csv\n"
          ],
          "name": "stdout"
        }
      ]
    },
    {
      "cell_type": "code",
      "metadata": {
        "id": "Ei7CLjFiXstB",
        "colab": {
          "base_uri": "https://localhost:8080/",
          "height": 343
        },
        "outputId": "97bfdcee-ef34-48cf-a438-445f3f7f7fc3"
      },
      "source": [
        "\n",
        "#store the data into data frame\n",
        "df = pd.read_csv('newdata.csv')\n",
        "df.head(10)\n"
      ],
      "execution_count": null,
      "outputs": [
        {
          "output_type": "execute_result",
          "data": {
            "text/html": [
              "<div>\n",
              "<style scoped>\n",
              "    .dataframe tbody tr th:only-of-type {\n",
              "        vertical-align: middle;\n",
              "    }\n",
              "\n",
              "    .dataframe tbody tr th {\n",
              "        vertical-align: top;\n",
              "    }\n",
              "\n",
              "    .dataframe thead th {\n",
              "        text-align: right;\n",
              "    }\n",
              "</style>\n",
              "<table border=\"1\" class=\"dataframe\">\n",
              "  <thead>\n",
              "    <tr style=\"text-align: right;\">\n",
              "      <th></th>\n",
              "      <th>Date</th>\n",
              "      <th>Prev Close</th>\n",
              "      <th>Close</th>\n",
              "    </tr>\n",
              "  </thead>\n",
              "  <tbody>\n",
              "    <tr>\n",
              "      <th>0</th>\n",
              "      <td>11-05-2000</td>\n",
              "      <td>590.15</td>\n",
              "      <td>593.80</td>\n",
              "    </tr>\n",
              "    <tr>\n",
              "      <th>1</th>\n",
              "      <td>12-05-2000</td>\n",
              "      <td>593.80</td>\n",
              "      <td>570.15</td>\n",
              "    </tr>\n",
              "    <tr>\n",
              "      <th>2</th>\n",
              "      <td>15-05-2000</td>\n",
              "      <td>570.15</td>\n",
              "      <td>540.15</td>\n",
              "    </tr>\n",
              "    <tr>\n",
              "      <th>3</th>\n",
              "      <td>16-05-2000</td>\n",
              "      <td>540.15</td>\n",
              "      <td>515.90</td>\n",
              "    </tr>\n",
              "    <tr>\n",
              "      <th>4</th>\n",
              "      <td>17-05-2000</td>\n",
              "      <td>515.90</td>\n",
              "      <td>512.00</td>\n",
              "    </tr>\n",
              "    <tr>\n",
              "      <th>5</th>\n",
              "      <td>18-05-2000</td>\n",
              "      <td>512.00</td>\n",
              "      <td>510.70</td>\n",
              "    </tr>\n",
              "    <tr>\n",
              "      <th>6</th>\n",
              "      <td>19-05-2000</td>\n",
              "      <td>510.70</td>\n",
              "      <td>501.85</td>\n",
              "    </tr>\n",
              "    <tr>\n",
              "      <th>7</th>\n",
              "      <td>22-05-2000</td>\n",
              "      <td>501.85</td>\n",
              "      <td>499.05</td>\n",
              "    </tr>\n",
              "    <tr>\n",
              "      <th>8</th>\n",
              "      <td>23-05-2000</td>\n",
              "      <td>499.05</td>\n",
              "      <td>499.65</td>\n",
              "    </tr>\n",
              "    <tr>\n",
              "      <th>9</th>\n",
              "      <td>24-05-2000</td>\n",
              "      <td>499.65</td>\n",
              "      <td>501.75</td>\n",
              "    </tr>\n",
              "  </tbody>\n",
              "</table>\n",
              "</div>"
            ],
            "text/plain": [
              "         Date  Prev Close   Close\n",
              "0  11-05-2000      590.15  593.80\n",
              "1  12-05-2000      593.80  570.15\n",
              "2  15-05-2000      570.15  540.15\n",
              "3  16-05-2000      540.15  515.90\n",
              "4  17-05-2000      515.90  512.00\n",
              "5  18-05-2000      512.00  510.70\n",
              "6  19-05-2000      510.70  501.85\n",
              "7  22-05-2000      501.85  499.05\n",
              "8  23-05-2000      499.05  499.65\n",
              "9  24-05-2000      499.65  501.75"
            ]
          },
          "metadata": {
            "tags": []
          },
          "execution_count": 13
        }
      ]
    },
    {
      "cell_type": "code",
      "metadata": {
        "id": "MFPT93NaYCgd",
        "colab": {
          "base_uri": "https://localhost:8080/",
          "height": 34
        },
        "outputId": "c779054c-35b2-4fbe-b780-6a0bbb07628f"
      },
      "source": [
        "#get the number of trading days\n",
        "df.shape"
      ],
      "execution_count": null,
      "outputs": [
        {
          "output_type": "execute_result",
          "data": {
            "text/plain": [
              "(364, 3)"
            ]
          },
          "metadata": {
            "tags": []
          },
          "execution_count": 14
        }
      ]
    },
    {
      "cell_type": "code",
      "metadata": {
        "id": "FCPiA2CfYTZC",
        "colab": {
          "base_uri": "https://localhost:8080/",
          "height": 513
        },
        "outputId": "3919eaa6-04aa-45dc-eb10-c7d11957a504"
      },
      "source": [
        "#visualize the selling price data\n",
        "plt.figure(figsize=(16,8))\n",
        "plt.title('britannia')\n",
        "plt.xlabel('days')\n",
        "plt.ylabel('prev close')\n",
        "plt.plot(df['Prev Close'])\n",
        "plt.show()"
      ],
      "execution_count": null,
      "outputs": [
        {
          "output_type": "display_data",
          "data": {
            "image/png": "[encoded data removed]",
            "text/plain": [
              "<Figure size 1152x576 with 1 Axes>"
            ]
          },
          "metadata": {
            "tags": [],
            "needs_background": "light"
          }
        }
      ]
    },
    {
      "cell_type": "code",
      "metadata": {
        "id": "HKuEi1-9YWgV",
        "colab": {
          "base_uri": "https://localhost:8080/",
          "height": 166
        },
        "outputId": "973fd46a-e167-42f4-acf7-bb59795e4ac2"
      },
      "source": [
        "#get the prev close\n",
        "df = df[['Prev Close']]\n",
        "df.head(4)"
      ],
      "execution_count": null,
      "outputs": [
        {
          "output_type": "execute_result",
          "data": {
            "text/html": [
              "<div>\n",
              "<style scoped>\n",
              "    .dataframe tbody tr th:only-of-type {\n",
              "        vertical-align: middle;\n",
              "    }\n",
              "\n",
              "    .dataframe tbody tr th {\n",
              "        vertical-align: top;\n",
              "    }\n",
              "\n",
              "    .dataframe thead th {\n",
              "        text-align: right;\n",
              "    }\n",
              "</style>\n",
              "<table border=\"1\" class=\"dataframe\">\n",
              "  <thead>\n",
              "    <tr style=\"text-align: right;\">\n",
              "      <th></th>\n",
              "      <th>Prev Close</th>\n",
              "    </tr>\n",
              "  </thead>\n",
              "  <tbody>\n",
              "    <tr>\n",
              "      <th>0</th>\n",
              "      <td>590.15</td>\n",
              "    </tr>\n",
              "    <tr>\n",
              "      <th>1</th>\n",
              "      <td>593.80</td>\n",
              "    </tr>\n",
              "    <tr>\n",
              "      <th>2</th>\n",
              "      <td>570.15</td>\n",
              "    </tr>\n",
              "    <tr>\n",
              "      <th>3</th>\n",
              "      <td>540.15</td>\n",
              "    </tr>\n",
              "  </tbody>\n",
              "</table>\n",
              "</div>"
            ],
            "text/plain": [
              "   Prev Close\n",
              "0      590.15\n",
              "1      593.80\n",
              "2      570.15\n",
              "3      540.15"
            ]
          },
          "metadata": {
            "tags": []
          },
          "execution_count": 19
        }
      ]
    },
    {
      "cell_type": "code",
      "metadata": {
        "id": "_j_Q8214aoTT",
        "colab": {
          "base_uri": "https://localhost:8080/",
          "height": 166
        },
        "outputId": "3a383ca7-9171-4e59-e868-c2103161ec20"
      },
      "source": [
        "#create a variable to predict 'x' days out into the future\n",
        "future_days=25\n",
        "#create a new column (target) shifted 'x' units/days up\n",
        "df['Prediction'] = df[['Prev Close']].shift(-future_days)\n",
        "df.tail(4)"
      ],
      "execution_count": null,
      "outputs": [
        {
          "output_type": "execute_result",
          "data": {
            "text/html": [
              "<div>\n",
              "<style scoped>\n",
              "    .dataframe tbody tr th:only-of-type {\n",
              "        vertical-align: middle;\n",
              "    }\n",
              "\n",
              "    .dataframe tbody tr th {\n",
              "        vertical-align: top;\n",
              "    }\n",
              "\n",
              "    .dataframe thead th {\n",
              "        text-align: right;\n",
              "    }\n",
              "</style>\n",
              "<table border=\"1\" class=\"dataframe\">\n",
              "  <thead>\n",
              "    <tr style=\"text-align: right;\">\n",
              "      <th></th>\n",
              "      <th>Prev Close</th>\n",
              "      <th>Prediction</th>\n",
              "    </tr>\n",
              "  </thead>\n",
              "  <tbody>\n",
              "    <tr>\n",
              "      <th>360</th>\n",
              "      <td>506.15</td>\n",
              "      <td>NaN</td>\n",
              "    </tr>\n",
              "    <tr>\n",
              "      <th>361</th>\n",
              "      <td>508.65</td>\n",
              "      <td>NaN</td>\n",
              "    </tr>\n",
              "    <tr>\n",
              "      <th>362</th>\n",
              "      <td>510.40</td>\n",
              "      <td>NaN</td>\n",
              "    </tr>\n",
              "    <tr>\n",
              "      <th>363</th>\n",
              "      <td>508.10</td>\n",
              "      <td>NaN</td>\n",
              "    </tr>\n",
              "  </tbody>\n",
              "</table>\n",
              "</div>"
            ],
            "text/plain": [
              "     Prev Close  Prediction\n",
              "360      506.15         NaN\n",
              "361      508.65         NaN\n",
              "362      510.40         NaN\n",
              "363      508.10         NaN"
            ]
          },
          "metadata": {
            "tags": []
          },
          "execution_count": 20
        }
      ]
    },
    {
      "cell_type": "code",
      "metadata": {
        "id": "ZMBHimBybgh5",
        "colab": {
          "base_uri": "https://localhost:8080/",
          "height": 1000
        },
        "outputId": "899d741e-a696-4581-d1b0-a8555f2cdec7"
      },
      "source": [
        "#create the feature data set (x) and convert it to a numpy array and remove the last 'x' rows/days\n",
        "x=np.array(df.drop(['Prediction'],1))[:-future_days]\n",
        "print(x)"
      ],
      "execution_count": null,
      "outputs": [
        {
          "output_type": "stream",
          "text": [
            "[[590.15]\n",
            " [593.8 ]\n",
            " [570.15]\n",
            " [540.15]\n",
            " [515.9 ]\n",
            " [512.  ]\n",
            " [510.7 ]\n",
            " [501.85]\n",
            " [499.05]\n",
            " [499.65]\n",
            " [501.75]\n",
            " [509.9 ]\n",
            " [549.55]\n",
            " [584.2 ]\n",
            " [598.4 ]\n",
            " [620.25]\n",
            " [607.15]\n",
            " [619.95]\n",
            " [612.8 ]\n",
            " [613.  ]\n",
            " [602.15]\n",
            " [591.6 ]\n",
            " [589.  ]\n",
            " [586.15]\n",
            " [584.9 ]\n",
            " [619.7 ]\n",
            " [613.2 ]\n",
            " [609.55]\n",
            " [603.95]\n",
            " [599.65]\n",
            " [589.35]\n",
            " [592.55]\n",
            " [580.35]\n",
            " [572.4 ]\n",
            " [576.55]\n",
            " [591.35]\n",
            " [609.  ]\n",
            " [596.85]\n",
            " [612.7 ]\n",
            " [619.05]\n",
            " [617.9 ]\n",
            " [609.  ]\n",
            " [614.95]\n",
            " [617.25]\n",
            " [628.65]\n",
            " [643.75]\n",
            " [649.95]\n",
            " [670.55]\n",
            " [678.3 ]\n",
            " [676.1 ]\n",
            " [672.9 ]\n",
            " [666.05]\n",
            " [651.65]\n",
            " [637.  ]\n",
            " [654.85]\n",
            " [672.15]\n",
            " [672.05]\n",
            " [675.5 ]\n",
            " [715.05]\n",
            " [699.55]\n",
            " [679.95]\n",
            " [675.8 ]\n",
            " [678.85]\n",
            " [671.35]\n",
            " [686.45]\n",
            " [697.55]\n",
            " [687.65]\n",
            " [688.6 ]\n",
            " [703.05]\n",
            " [702.15]\n",
            " [689.6 ]\n",
            " [690.  ]\n",
            " [689.3 ]\n",
            " [681.9 ]\n",
            " [679.05]\n",
            " [673.8 ]\n",
            " [676.2 ]\n",
            " [674.  ]\n",
            " [679.75]\n",
            " [675.05]\n",
            " [668.5 ]\n",
            " [661.8 ]\n",
            " [659.8 ]\n",
            " [664.6 ]\n",
            " [661.2 ]\n",
            " [649.9 ]\n",
            " [646.05]\n",
            " [626.1 ]\n",
            " [632.1 ]\n",
            " [642.65]\n",
            " [636.5 ]\n",
            " [644.3 ]\n",
            " [657.85]\n",
            " [689.  ]\n",
            " [693.8 ]\n",
            " [678.5 ]\n",
            " [678.4 ]\n",
            " [670.35]\n",
            " [667.8 ]\n",
            " [660.7 ]\n",
            " [659.85]\n",
            " [653.1 ]\n",
            " [663.15]\n",
            " [681.15]\n",
            " [685.85]\n",
            " [701.9 ]\n",
            " [698.15]\n",
            " [698.85]\n",
            " [706.45]\n",
            " [747.1 ]\n",
            " [769.1 ]\n",
            " [762.7 ]\n",
            " [752.7 ]\n",
            " [746.95]\n",
            " [745.8 ]\n",
            " [744.75]\n",
            " [759.3 ]\n",
            " [750.15]\n",
            " [752.9 ]\n",
            " [751.65]\n",
            " [759.45]\n",
            " [756.35]\n",
            " [776.35]\n",
            " [804.1 ]\n",
            " [803.4 ]\n",
            " [800.5 ]\n",
            " [804.05]\n",
            " [809.5 ]\n",
            " [800.75]\n",
            " [803.1 ]\n",
            " [797.85]\n",
            " [804.3 ]\n",
            " [793.6 ]\n",
            " [799.15]\n",
            " [814.75]\n",
            " [815.8 ]\n",
            " [816.  ]\n",
            " [801.45]\n",
            " [807.1 ]\n",
            " [810.25]\n",
            " [819.65]\n",
            " [826.  ]\n",
            " [821.6 ]\n",
            " [830.65]\n",
            " [820.1 ]\n",
            " [788.9 ]\n",
            " [793.85]\n",
            " [788.95]\n",
            " [787.8 ]\n",
            " [792.8 ]\n",
            " [789.55]\n",
            " [789.6 ]\n",
            " [791.85]\n",
            " [787.75]\n",
            " [775.9 ]\n",
            " [770.5 ]\n",
            " [761.55]\n",
            " [771.35]\n",
            " [759.35]\n",
            " [756.1 ]\n",
            " [758.25]\n",
            " [775.05]\n",
            " [789.4 ]\n",
            " [802.4 ]\n",
            " [798.75]\n",
            " [799.95]\n",
            " [807.1 ]\n",
            " [793.15]\n",
            " [803.05]\n",
            " [813.85]\n",
            " [804.3 ]\n",
            " [795.2 ]\n",
            " [797.  ]\n",
            " [786.3 ]\n",
            " [787.85]\n",
            " [777.15]\n",
            " [782.15]\n",
            " [772.35]\n",
            " [799.7 ]\n",
            " [781.15]\n",
            " [768.4 ]\n",
            " [767.8 ]\n",
            " [763.6 ]\n",
            " [761.4 ]\n",
            " [774.6 ]\n",
            " [797.55]\n",
            " [795.05]\n",
            " [796.5 ]\n",
            " [775.2 ]\n",
            " [773.85]\n",
            " [768.75]\n",
            " [780.55]\n",
            " [773.5 ]\n",
            " [797.95]\n",
            " [796.25]\n",
            " [807.7 ]\n",
            " [812.6 ]\n",
            " [807.1 ]\n",
            " [810.35]\n",
            " [801.  ]\n",
            " [794.9 ]\n",
            " [790.25]\n",
            " [781.6 ]\n",
            " [774.  ]\n",
            " [779.25]\n",
            " [733.7 ]\n",
            " [707.9 ]\n",
            " [717.9 ]\n",
            " [717.5 ]\n",
            " [707.75]\n",
            " [699.55]\n",
            " [695.1 ]\n",
            " [685.  ]\n",
            " [661.85]\n",
            " [671.5 ]\n",
            " [684.2 ]\n",
            " [668.45]\n",
            " [668.15]\n",
            " [666.4 ]\n",
            " [669.35]\n",
            " [687.5 ]\n",
            " [671.35]\n",
            " [665.65]\n",
            " [675.95]\n",
            " [694.55]\n",
            " [694.9 ]\n",
            " [699.05]\n",
            " [682.55]\n",
            " [686.95]\n",
            " [685.95]\n",
            " [671.1 ]\n",
            " [686.7 ]\n",
            " [679.4 ]\n",
            " [663.45]\n",
            " [673.4 ]\n",
            " [670.9 ]\n",
            " [682.05]\n",
            " [685.05]\n",
            " [694.45]\n",
            " [693.25]\n",
            " [694.05]\n",
            " [694.1 ]\n",
            " [686.9 ]\n",
            " [700.  ]\n",
            " [695.45]\n",
            " [694.75]\n",
            " [686.55]\n",
            " [688.95]\n",
            " [681.25]\n",
            " [680.25]\n",
            " [674.6 ]\n",
            " [674.1 ]\n",
            " [673.9 ]\n",
            " [668.9 ]\n",
            " [663.5 ]\n",
            " [648.5 ]\n",
            " [650.7 ]\n",
            " [647.7 ]\n",
            " [637.65]\n",
            " [649.75]\n",
            " [650.15]\n",
            " [654.15]\n",
            " [654.8 ]\n",
            " [642.55]\n",
            " [638.  ]\n",
            " [639.15]\n",
            " [641.35]\n",
            " [642.2 ]\n",
            " [641.3 ]\n",
            " [638.  ]\n",
            " [619.65]\n",
            " [615.95]\n",
            " [606.95]\n",
            " [628.2 ]\n",
            " [618.3 ]\n",
            " [624.5 ]\n",
            " [643.5 ]\n",
            " [652.1 ]\n",
            " [646.  ]\n",
            " [627.05]\n",
            " [625.05]\n",
            " [628.25]\n",
            " [625.5 ]\n",
            " [624.05]\n",
            " [624.  ]\n",
            " [623.75]\n",
            " [614.7 ]\n",
            " [613.15]\n",
            " [613.55]\n",
            " [621.1 ]\n",
            " [621.95]\n",
            " [615.3 ]\n",
            " [614.1 ]\n",
            " [611.05]\n",
            " [609.1 ]\n",
            " [611.35]\n",
            " [608.05]\n",
            " [601.05]\n",
            " [598.9 ]\n",
            " [589.5 ]\n",
            " [608.95]\n",
            " [596.55]\n",
            " [596.5 ]\n",
            " [583.55]\n",
            " [581.85]\n",
            " [587.85]\n",
            " [573.35]\n",
            " [569.1 ]\n",
            " [579.8 ]\n",
            " [581.8 ]\n",
            " [580.9 ]\n",
            " [576.65]\n",
            " [580.7 ]\n",
            " [586.1 ]\n",
            " [583.65]\n",
            " [584.5 ]\n",
            " [585.9 ]\n",
            " [570.45]\n",
            " [567.3 ]\n",
            " [561.6 ]\n",
            " [559.6 ]\n",
            " [545.75]\n",
            " [549.8 ]\n",
            " [549.7 ]\n",
            " [548.45]\n",
            " [551.3 ]\n",
            " [551.45]\n",
            " [549.25]\n",
            " [547.8 ]\n",
            " [551.  ]\n",
            " [557.15]\n",
            " [563.6 ]\n",
            " [563.2 ]\n",
            " [560.05]\n",
            " [559.95]\n",
            " [558.8 ]\n",
            " [558.05]\n",
            " [560.  ]\n",
            " [563.15]]\n"
          ],
          "name": "stdout"
        }
      ]
    },
    {
      "cell_type": "code",
      "metadata": {
        "id": "_U50P6J3cNHa",
        "colab": {
          "base_uri": "https://localhost:8080/",
          "height": 588
        },
        "outputId": "d89a366a-a323-4ab5-b2ff-d71fa3239943"
      },
      "source": [
        "#createthe target data set (y)and convert it to a numpy array and get all of the target values except thelast 'x' rows/days\n",
        "y=np.array(df['Prediction'])[:-future_days]\n",
        "print(y)"
      ],
      "execution_count": null,
      "outputs": [
        {
          "output_type": "stream",
          "text": [
            "[619.7  613.2  609.55 603.95 599.65 589.35 592.55 580.35 572.4  576.55\n",
            " 591.35 609.   596.85 612.7  619.05 617.9  609.   614.95 617.25 628.65\n",
            " 643.75 649.95 670.55 678.3  676.1  672.9  666.05 651.65 637.   654.85\n",
            " 672.15 672.05 675.5  715.05 699.55 679.95 675.8  678.85 671.35 686.45\n",
            " 697.55 687.65 688.6  703.05 702.15 689.6  690.   689.3  681.9  679.05\n",
            " 673.8  676.2  674.   679.75 675.05 668.5  661.8  659.8  664.6  661.2\n",
            " 649.9  646.05 626.1  632.1  642.65 636.5  644.3  657.85 689.   693.8\n",
            " 678.5  678.4  670.35 667.8  660.7  659.85 653.1  663.15 681.15 685.85\n",
            " 701.9  698.15 698.85 706.45 747.1  769.1  762.7  752.7  746.95 745.8\n",
            " 744.75 759.3  750.15 752.9  751.65 759.45 756.35 776.35 804.1  803.4\n",
            " 800.5  804.05 809.5  800.75 803.1  797.85 804.3  793.6  799.15 814.75\n",
            " 815.8  816.   801.45 807.1  810.25 819.65 826.   821.6  830.65 820.1\n",
            " 788.9  793.85 788.95 787.8  792.8  789.55 789.6  791.85 787.75 775.9\n",
            " 770.5  761.55 771.35 759.35 756.1  758.25 775.05 789.4  802.4  798.75\n",
            " 799.95 807.1  793.15 803.05 813.85 804.3  795.2  797.   786.3  787.85\n",
            " 777.15 782.15 772.35 799.7  781.15 768.4  767.8  763.6  761.4  774.6\n",
            " 797.55 795.05 796.5  775.2  773.85 768.75 780.55 773.5  797.95 796.25\n",
            " 807.7  812.6  807.1  810.35 801.   794.9  790.25 781.6  774.   779.25\n",
            " 733.7  707.9  717.9  717.5  707.75 699.55 695.1  685.   661.85 671.5\n",
            " 684.2  668.45 668.15 666.4  669.35 687.5  671.35 665.65 675.95 694.55\n",
            " 694.9  699.05 682.55 686.95 685.95 671.1  686.7  679.4  663.45 673.4\n",
            " 670.9  682.05 685.05 694.45 693.25 694.05 694.1  686.9  700.   695.45\n",
            " 694.75 686.55 688.95 681.25 680.25 674.6  674.1  673.9  668.9  663.5\n",
            " 648.5  650.7  647.7  637.65 649.75 650.15 654.15 654.8  642.55 638.\n",
            " 639.15 641.35 642.2  641.3  638.   619.65 615.95 606.95 628.2  618.3\n",
            " 624.5  643.5  652.1  646.   627.05 625.05 628.25 625.5  624.05 624.\n",
            " 623.75 614.7  613.15 613.55 621.1  621.95 615.3  614.1  611.05 609.1\n",
            " 611.35 608.05 601.05 598.9  589.5  608.95 596.55 596.5  583.55 581.85\n",
            " 587.85 573.35 569.1  579.8  581.8  580.9  576.65 580.7  586.1  583.65\n",
            " 584.5  585.9  570.45 567.3  561.6  559.6  545.75 549.8  549.7  548.45\n",
            " 551.3  551.45 549.25 547.8  551.   557.15 563.6  563.2  560.05 559.95\n",
            " 558.8  558.05 560.   563.15 563.95 556.15 542.7  525.   507.95 508.05\n",
            " 499.95 496.2  510.   506.9  506.35 509.35 504.9  501.75 500.65 500.45\n",
            " 505.   505.75 506.1  508.05 508.45 506.15 508.65 510.4  508.1 ]\n"
          ],
          "name": "stdout"
        }
      ]
    },
    {
      "cell_type": "code",
      "metadata": {
        "id": "bykMigT0d7Os"
      },
      "source": [
        "#split  the data into 75% training and 25% testing\n",
        "x_train, x_test, y_train, y_test = train_test_split(x, y, test_size = 0.25)\n"
      ],
      "execution_count": null,
      "outputs": []
    },
    {
      "cell_type": "code",
      "metadata": {
        "id": "-AJWA3KWeTxG"
      },
      "source": [
        "#create models\n",
        "#create the decision tree regressor model\n",
        "tree = DecisionTreeRegressor().fit(x_train,y_train)\n",
        "#create the linear regression model\n",
        "lr = LinearRegression().fit(x_train,y_train)"
      ],
      "execution_count": null,
      "outputs": []
    },
    {
      "cell_type": "code",
      "metadata": {
        "id": "nWCRfA-sffwu",
        "colab": {
          "base_uri": "https://localhost:8080/",
          "height": 437
        },
        "outputId": "7c3fc31d-18e4-41ff-e6ce-d35035f6e647"
      },
      "source": [
        "#get the last 'x' rows of the feature data set\n",
        "x_future = df.drop(['Prediction'],1)[:-future_days]\n",
        "x_future = x_future.tail(future_days)\n",
        "x_future = np.array(x_future)\n",
        "x_future"
      ],
      "execution_count": null,
      "outputs": [
        {
          "output_type": "execute_result",
          "data": {
            "text/plain": [
              "array([[583.65],\n",
              "       [584.5 ],\n",
              "       [585.9 ],\n",
              "       [570.45],\n",
              "       [567.3 ],\n",
              "       [561.6 ],\n",
              "       [559.6 ],\n",
              "       [545.75],\n",
              "       [549.8 ],\n",
              "       [549.7 ],\n",
              "       [548.45],\n",
              "       [551.3 ],\n",
              "       [551.45],\n",
              "       [549.25],\n",
              "       [547.8 ],\n",
              "       [551.  ],\n",
              "       [557.15],\n",
              "       [563.6 ],\n",
              "       [563.2 ],\n",
              "       [560.05],\n",
              "       [559.95],\n",
              "       [558.8 ],\n",
              "       [558.05],\n",
              "       [560.  ],\n",
              "       [563.15]])"
            ]
          },
          "metadata": {
            "tags": []
          },
          "execution_count": 34
        }
      ]
    },
    {
      "cell_type": "code",
      "metadata": {
        "id": "7vhEF_3OgMBW",
        "colab": {
          "base_uri": "https://localhost:8080/",
          "height": 168
        },
        "outputId": "388b2423-1bd1-40c0-ee1c-ba7985290aea"
      },
      "source": [
        "#show the model tree prediction\n",
        "tree_prediciton = tree.predict(x_future)\n",
        "print(tree_prediciton)\n",
        "print()\n",
        "#show the model linear regression prediction\n",
        "lr_prediction = lr.predict(x_future)\n",
        "print(lr_prediction)"
      ],
      "execution_count": null,
      "outputs": [
        {
          "output_type": "stream",
          "text": [
            "[563.95 612.7  542.7  525.   563.2  508.05 508.45 500.65 506.9  506.9\n",
            " 506.35 509.35 509.35 501.75 500.65 500.45 505.   505.75 508.1  508.05\n",
            " 508.45 506.15 506.15 510.4  508.1 ]\n",
            "\n",
            "[595.99849546 596.69845795 597.85133735 585.12848971 582.53451106\n",
            " 577.84064494 576.19367437 564.78840318 568.12351858 568.04117005\n",
            " 567.01181345 569.35874651 569.4822693  567.67060167 566.47654801\n",
            " 569.11170092 574.17613542 579.48761551 579.15822139 576.56424275\n",
            " 576.48189422 575.53488614 574.91727218 576.52306848 579.11704713]\n"
          ],
          "name": "stdout"
        }
      ]
    },
    {
      "cell_type": "code",
      "metadata": {
        "id": "C1dI_PkbhMwa",
        "colab": {
          "base_uri": "https://localhost:8080/",
          "height": 614
        },
        "outputId": "55a9731b-e0e8-401f-e6d2-c08c3a2d294d"
      },
      "source": [
        "#visualize the data\n",
        "prediction = tree_prediciton\n",
        "\n",
        "valid= df[x.shape[0]:]\n",
        "valid['Prediction'] = prediction\n",
        "plt.figure(figsize=(16,8))\n",
        "plt.title('model')\n",
        "plt.xlabel('days')\n",
        "plt.ylabel('prev close')\n",
        "plt.plot(df['Prev Close'])\n",
        "plt.plot(valid[['Prev Close','Prediction']])\n",
        "plt.legend(['Orig','Val','Pred'])\n",
        "plt.show()"
      ],
      "execution_count": null,
      "outputs": [
        {
          "output_type": "stream",
          "text": [
            "/usr/local/lib/python3.6/dist-packages/ipykernel_launcher.py:5: SettingWithCopyWarning: \n",
            "A value is trying to be set on a copy of a slice from a DataFrame.\n",
            "Try using .loc[row_indexer,col_indexer] = value instead\n",
            "\n",
            "See the caveats in the documentation: https://pandas.pydata.org/pandas-docs/stable/user_guide/indexing.html#returning-a-view-versus-a-copy\n",
            "  \"\"\"\n"
          ],
          "name": "stderr"
        },
        {
          "output_type": "display_data",
          "data": {
            "image/png": "[encoded data removed]",
            "text/plain": [
              "<Figure size 1152x576 with 1 Axes>"
            ]
          },
          "metadata": {
            "tags": [],
            "needs_background": "light"
          }
        }
      ]
    },
    {
      "cell_type": "code",
      "metadata": {
        "id": "fAa1LFdKoNYZ",
        "colab": {
          "base_uri": "https://localhost:8080/",
          "height": 34
        },
        "outputId": "b7d70c54-17a2-45eb-87f7-33509c4ee297"
      },
      "source": [
        "from sklearn.linear_model import LinearRegression\n",
        "regressor = LinearRegression()\n",
        "regressor.fit(x_train,y_train)\n",
        "accuracy = regressor.score(x_test,y_test)\n",
        "print(accuracy*100,'%')"
      ],
      "execution_count": null,
      "outputs": [
        {
          "output_type": "stream",
          "text": [
            "62.831857229766555 %\n"
          ],
          "name": "stdout"
        }
      ]
    },
    {
      "cell_type": "code",
      "metadata": {
        "id": "JxzrE2EZotA8"
      },
      "source": [
        "from sklearn.model_selection import train_test_split\n",
        "from sklearn.linear_model import Lasso\n",
        "from yellowbrick.datasets import load_concrete\n",
        "from yellowbrick.regressor import prediction_error\n"
      ],
      "execution_count": null,
      "outputs": []
    },
    {
      "cell_type": "code",
      "metadata": {
        "id": "ky-X7nGUqo8s",
        "colab": {
          "base_uri": "https://localhost:8080/",
          "height": 229
        },
        "outputId": "79a3ff3e-774e-4395-9556-3cac3f883613"
      },
      "source": [
        "# Instantiate the linear model and visualizer\n",
        "model = Lasso()\n",
        "visualizer = PredictionError(model)\n",
        "\n",
        "visualizer.fit(X_train, y_train)  # Fit the training data to the visualizer\n",
        "visualizer.score(X_test, y_test)  # Evaluate the model on the test data\n",
        "visualizer.show()                 # Finalize and render the figure\n"
      ],
      "execution_count": null,
      "outputs": [
        {
          "output_type": "error",
          "ename": "NameError",
          "evalue": "ignored",
          "traceback": [
            "\u001b[0;31m---------------------------------------------------------------------------\u001b[0m",
            "\u001b[0;31mNameError\u001b[0m                                 Traceback (most recent call last)",
            "\u001b[0;32m<ipython-input-47-0e9cbbfb1c8a>\u001b[0m in \u001b[0;36m<module>\u001b[0;34m()\u001b[0m\n\u001b[1;32m      1\u001b[0m \u001b[0;31m# Instantiate the linear model and visualizer\u001b[0m\u001b[0;34m\u001b[0m\u001b[0;34m\u001b[0m\u001b[0;34m\u001b[0m\u001b[0m\n\u001b[1;32m      2\u001b[0m \u001b[0mmodel\u001b[0m \u001b[0;34m=\u001b[0m \u001b[0mLasso\u001b[0m\u001b[0;34m(\u001b[0m\u001b[0;34m)\u001b[0m\u001b[0;34m\u001b[0m\u001b[0;34m\u001b[0m\u001b[0m\n\u001b[0;32m----> 3\u001b[0;31m \u001b[0mvisualizer\u001b[0m \u001b[0;34m=\u001b[0m \u001b[0mPredictionError\u001b[0m\u001b[0;34m(\u001b[0m\u001b[0mmodel\u001b[0m\u001b[0;34m)\u001b[0m\u001b[0;34m\u001b[0m\u001b[0;34m\u001b[0m\u001b[0m\n\u001b[0m\u001b[1;32m      4\u001b[0m \u001b[0;34m\u001b[0m\u001b[0m\n\u001b[1;32m      5\u001b[0m \u001b[0mvisualizer\u001b[0m\u001b[0;34m.\u001b[0m\u001b[0mfit\u001b[0m\u001b[0;34m(\u001b[0m\u001b[0mX_train\u001b[0m\u001b[0;34m,\u001b[0m \u001b[0my_train\u001b[0m\u001b[0;34m)\u001b[0m  \u001b[0;31m# Fit the training data to the visualizer\u001b[0m\u001b[0;34m\u001b[0m\u001b[0;34m\u001b[0m\u001b[0m\n",
            "\u001b[0;31mNameError\u001b[0m: name 'PredictionError' is not defined"
          ]
        }
      ]
    }
  ]
}